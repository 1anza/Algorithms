{
  "nbformat": 4,
  "nbformat_minor": 0,
  "metadata": {
    "colab": {
      "provenance": []
    },
    "kernelspec": {
      "name": "python3",
      "display_name": "Python 3"
    },
    "language_info": {
      "name": "python"
    }
  },
  "cells": [
    {
      "cell_type": "code",
      "source": [
        "from collections import deque, OrderedDict\n",
        "\n",
        "#inputs\n",
        "nm = list(map(int,input().split()))\n",
        "n = nm[0]\n",
        "m = nm[1]\n",
        "\n",
        "amt = list(map(int,input().split()))\n",
        "val = [[0 for x in range(3)] for y in range(m)]\n",
        "\n",
        "\n",
        "for i in range(0,m):\n",
        "  inp = list(map(int,input().split()))\n",
        "  for j in range(0, 3):\n",
        "    val[i][j] = inp[j]"
      ],
      "metadata": {
        "colab": {
          "base_uri": "https://localhost:8080/"
        },
        "id": "8pjmb3v4a4v5",
        "outputId": "be39e64b-784b-41ed-b95e-3d0d2d3b32c3"
      },
      "execution_count": null,
      "outputs": [
        {
          "name": "stdout",
          "output_type": "stream",
          "text": [
            "6 5\n",
            "0 0 2 2 3 1\n",
            "0 3 1\n",
            "1 3 2\n",
            "2 4 1\n",
            "3 4 3\n",
            "3 5 1\n"
          ]
        }
      ]
    },
    {
      "cell_type": "code",
      "source": [
        "def recipe_DAG(vertex, edges):\n",
        "\n",
        "    topoSort = []\n",
        "    inDeg = {i: 0 for i in vertex}\n",
        "    graph = {i: [] for i in vertex}\n",
        "    childGraph = {i: [] for i in vertex}\n",
        "\n",
        "    #update the inDeg of vertex and graph\n",
        "    for edge in edges:\n",
        "        parent, child, cost = edge[0], edge[1], edge[2]\n",
        "        graph[parent].append(child)\n",
        "        childGraph[child].append((parent, cost))\n",
        "        inDeg[child] += 1\n",
        "\n",
        "    #store sorted vertex\n",
        "    queue = deque()\n",
        "    for source, degree in inDeg.items():\n",
        "        if degree == 0:\n",
        "            queue.append(source)\n",
        "\n",
        "    while queue:\n",
        "        source = queue.popleft()\n",
        "        topoSort.append(source)\n",
        "        for child in graph[source]:\n",
        "            inDeg[child] -= 1\n",
        "            if inDeg[child] == 0:\n",
        "                queue.append(child)\n",
        "\n",
        "    sortedChildGraph = OrderedDict(reversed([(x, childGraph[x]) for x in topoSort]))\n",
        "\n",
        "    # Iterate over a dictionary with list values using nested for loop\n",
        "    for key, values in sortedChildGraph.items():\n",
        "        for v,w in values:\n",
        "            amt[v] += w * amt[key]\n",
        "\n",
        "\n",
        "    print(*amt)\n",
        "\n",
        "\n",
        "vertex = [0 for x in range(n)]\n",
        "for i in range (0,n):\n",
        "  vertex[i] = i\n",
        "\n",
        "\n",
        "recipe_DAG(vertex, val)\n",
        "\n",
        "\n",
        "\n"
      ],
      "metadata": {
        "colab": {
          "base_uri": "https://localhost:8080/"
        },
        "id": "vBu3qMGSwQKy",
        "outputId": "909b0e0b-b9e1-41cd-ad15-c3be7462964a"
      },
      "execution_count": null,
      "outputs": [
        {
          "output_type": "stream",
          "name": "stdout",
          "text": [
            "12 24 5 12 3 1\n"
          ]
        }
      ]
    }
  ]
}