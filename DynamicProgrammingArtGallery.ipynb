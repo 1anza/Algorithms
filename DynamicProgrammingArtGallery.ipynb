{
  "nbformat": 4,
  "nbformat_minor": 0,
  "metadata": {
    "colab": {
      "provenance": []
    },
    "kernelspec": {
      "name": "python3",
      "display_name": "Python 3"
    },
    "language_info": {
      "name": "python"
    }
  },
  "cells": [
    {
      "cell_type": "code",
      "execution_count": null,
      "metadata": {
        "colab": {
          "base_uri": "https://localhost:8080/"
        },
        "id": "84qtdGBuQnZA",
        "outputId": "ce3aecc4-d643-40e9-f06f-21b4b18f790e"
      },
      "outputs": [
        {
          "name": "stdout",
          "output_type": "stream",
          "text": [
            "4 3\n"
          ]
        }
      ],
      "source": [
        "# input gallery elements\n",
        "nk = list(map(int, input().split())) \n",
        "\n",
        "# num of rows\n",
        "n = nk[0]\n",
        "\n",
        "# num of closed rooms\n",
        "k = nk[1]\n",
        "\n",
        "# gallery array, 3D array for memoization\n",
        "gallery = [[0 for x in range(2)] for y in range(n+1)]\n",
        "threeD = [[[0 for col in range(500)]for row in range(500)] for x in range(3)]\n"
      ]
    },
    {
      "cell_type": "code",
      "source": [
        "# input gallery values and find total value of gallery\n",
        "for i in range(0, n+1):\n",
        "    val = input().split()\n",
        "    gallery[i][0] = int(val[0])\n",
        "    gallery[i][1] = int(val[1])"
      ],
      "metadata": {
        "colab": {
          "base_uri": "https://localhost:8080/"
        },
        "id": "iAgQiri-_LV1",
        "outputId": "e6d2115c-4e4c-431e-e439-5172542c4d40"
      },
      "execution_count": null,
      "outputs": [
        {
          "name": "stdout",
          "output_type": "stream",
          "text": [
            "3 4\n",
            "1 1\n",
            "1 1\n",
            "5 6\n",
            "0 0\n"
          ]
        }
      ]
    },
    {
      "cell_type": "code",
      "source": [
        "# function to find the max value through the gallery\n",
        "def maxValue(row, direction, blocked):\n",
        "    global n\n",
        "    global k\n",
        "    global gallery\n",
        "    global threeD\n",
        "\n",
        "    if row >= n and blocked == 0:\n",
        "        return 0\n",
        "\n",
        "    if row >= n and blocked != 0:\n",
        "        return -100000000\n",
        "\n",
        "    if threeD[direction][blocked][row] != 0:\n",
        "        return threeD[direction][blocked][row]\n",
        "    \n",
        "    value = 0\n",
        "\n",
        "    if blocked == n - row:\n",
        "\n",
        "        if direction == 0:\n",
        "            value = max(value, gallery[row][0] + maxValue(row + 1, 1, blocked -1), gallery[row][1] + maxValue(row + 1, 2, blocked-1))\n",
        "\n",
        "        if direction == 1:\n",
        "            value = max(value, gallery[row][0] + maxValue(row + 1, 1, blocked-1))\n",
        "\n",
        "        if direction == 2:\n",
        "            value = max(value, gallery[row][1] + maxValue(row + 1, 2, blocked-1))\n",
        "\n",
        "    if blocked > 0 and blocked < n - row:\n",
        "\n",
        "        if direction == 0:\n",
        "            value = max(value, gallery[row][0] + maxValue(row + 1, 1, blocked-1), gallery[row][1] + maxValue(row + 1, 2, blocked-1), gallery[row][0] + gallery[row][1] + maxValue(row + 1, 0, blocked))\n",
        "\n",
        "        if direction == 1:\n",
        "            value = max(value, gallery[row][0] + maxValue(row + 1, 1, blocked-1), gallery[row][0] + gallery[row][1] + maxValue(row + 1, 0, blocked))\n",
        "\n",
        "        if direction == 2:\n",
        "            value = max(value, gallery[row][1] + maxValue(row + 1, 2, blocked-1), gallery[row][0] + gallery[row][1] + maxValue(row + 1, 0, blocked))\n",
        "\n",
        "    if blocked == 0:\n",
        "        value = max(value, gallery[row][0] + gallery[row][1] + maxValue(row + 1, 0, blocked))\n",
        "\n",
        "    threeD[direction][blocked][row] = value\n",
        "    return int(threeD[direction][blocked][row])\n",
        "\n",
        "# print largest value of gallery\n",
        "print(maxValue(0, 0, k))"
      ],
      "metadata": {
        "id": "NL4GHkCEQtSy",
        "colab": {
          "base_uri": "https://localhost:8080/"
        },
        "outputId": "1baea641-0d8a-467b-e505-715fd8de2ac4"
      },
      "execution_count": null,
      "outputs": [
        {
          "output_type": "stream",
          "name": "stdout",
          "text": [
            "17\n"
          ]
        }
      ]
    }
  ]
}