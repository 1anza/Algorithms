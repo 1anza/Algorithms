{
  "nbformat": 4,
  "nbformat_minor": 0,
  "metadata": {
    "colab": {
      "provenance": []
    },
    "kernelspec": {
      "name": "python3",
      "display_name": "Python 3"
    },
    "language_info": {
      "name": "python"
    }
  },
  "cells": [
    {
      "cell_type": "code",
      "execution_count": null,
      "metadata": {
        "colab": {
          "base_uri": "https://localhost:8080/"
        },
        "id": "xHQUGlXnBSyo",
        "outputId": "89b2583c-faa8-4489-c4db-11dc3bf7f24a"
      },
      "outputs": [
        {
          "name": "stdout",
          "output_type": "stream",
          "text": [
            "5 3 3\n",
            "1 2 6 7 8\n",
            "2 6 7\n",
            "4 8 9\n"
          ]
        }
      ],
      "source": [
        "# input elements\n",
        "nmk = list(map(int, input().split())) \n",
        "\n",
        "# num of circular plots\n",
        "n = nmk[0]\n",
        "\n",
        "# num of circular houses\n",
        "m = nmk[1]\n",
        "\n",
        "# num of square houses\n",
        "k = nmk[2]\n",
        "\n",
        "plotList = list(map(float, input().split()))\n",
        "mList = list(map(float, input().split()))\n",
        "kList = list(map(float, input().split()))"
      ]
    },
    {
      "cell_type": "code",
      "source": [
        "for i in range(0, k):\n",
        "    val = kList[i]\n",
        "    sqrt = 2**0.5\n",
        "    val = val/sqrt\n",
        "    kList[i] = val"
      ],
      "metadata": {
        "id": "kPZRWIJILs4H"
      },
      "execution_count": null,
      "outputs": []
    },
    {
      "cell_type": "code",
      "source": [
        "houseList = mList + kList\n",
        "houseList.sort()\n",
        "plotList.sort()"
      ],
      "metadata": {
        "id": "Vp_9STdLL1pv"
      },
      "execution_count": null,
      "outputs": []
    },
    {
      "cell_type": "code",
      "source": [
        "countList = []"
      ],
      "metadata": {
        "id": "CXqctUTeaK7e",
        "colab": {
          "base_uri": "https://localhost:8080/"
        },
        "outputId": "614892fa-14e9-4663-f4fc-1f5739b792c9"
      },
      "execution_count": null,
      "outputs": [
        {
          "output_type": "stream",
          "name": "stdout",
          "text": [
            "[1.0, 2.0, 6.0, 7.0, 8.0]\n",
            "[2.0, 2.82842712474619, 5.65685424949238, 6.0, 6.363961030678928, 7.0]\n"
          ]
        }
      ]
    },
    {
      "cell_type": "code",
      "source": [
        "for i in range(0,n):\n",
        "  if plotList[i] > houseList[i]:\n",
        "    countList.append(1)"
      ],
      "metadata": {
        "id": "P25uJIRQDNJ0"
      },
      "execution_count": null,
      "outputs": []
    },
    {
      "cell_type": "code",
      "source": [
        "print(len(countList))"
      ],
      "metadata": {
        "colab": {
          "base_uri": "https://localhost:8080/"
        },
        "id": "SXiXuoCebkKs",
        "outputId": "a448f22f-5c58-4483-ab32-7b71d61cbceb"
      },
      "execution_count": null,
      "outputs": [
        {
          "output_type": "stream",
          "name": "stdout",
          "text": [
            "3\n"
          ]
        }
      ]
    },
    {
      "cell_type": "code",
      "source": [],
      "metadata": {
        "id": "jpoLOaVhclzA"
      },
      "execution_count": null,
      "outputs": []
    }
  ]
}